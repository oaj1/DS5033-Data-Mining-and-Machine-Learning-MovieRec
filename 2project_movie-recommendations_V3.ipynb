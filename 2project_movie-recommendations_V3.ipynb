{
 "cells": [
  {
   "cell_type": "markdown",
   "metadata": {},
   "source": [
    "# Project One: Moive Recommendations\n",
    "\n",
    "We have an exciting project that will further build your ML abilities and end with a  \n",
    "practical model that you may find useful for yourself! \n",
    "\n",
    "We will work through a series of steps:\n",
    "1. Understand the Overarching Task\n",
    "2. Acquire and Load the Data\n",
    "3. Prepare the Data (for ML)\n",
    "4. Selecting and Training an ML Model\n",
    "5. Presenting an Analysis on the Solution\n",
    "\n",
    "Similar to project 1, we will consolidate this notebook into three following steps:\n",
    "\n",
    "* Tasks 1-2 fall will be under Exploratory Data Analysis (EDA).\n",
    "* Tasks 3-4 will involve building a prediction engine for movies.\n",
    "* Finally, we have our analysis in task five.\n",
    "\n",
    "\n",
    "For this project, the data is on movies from 1996 to 2018, with just over 100K ratings across *over 9000* movies.  \n",
    "Details on the dataset are available at https://files.grouplens.org/datasets/movielens/ml-latest-small-README.html\n",
    "\n",
    "* The dataset is attached on the assignment page as a zip.\n",
    "* It is also available for download at https://files.grouplens.org/datasets/movielens/ml-latest-small.zip"
   ]
  },
  {
   "cell_type": "code",
   "execution_count": 3,
   "metadata": {
    "execution": {
     "iopub.execute_input": "2024-11-04T19:11:37.818457Z",
     "iopub.status.busy": "2024-11-04T19:11:37.818032Z",
     "iopub.status.idle": "2024-11-04T19:11:37.826055Z",
     "shell.execute_reply": "2024-11-04T19:11:37.824859Z",
     "shell.execute_reply.started": "2024-11-04T19:11:37.818407Z"
    },
    "trusted": true
   },
   "outputs": [],
   "source": [
    "#install any libraries you may need\n",
    "import pandas as pd # for dataframes from CSV file\n",
    "import numpy as np # for numerical computation\n",
    "import matplotlib as mp #for data visualization\n",
    "import seaborn as sns  #for statistical data visualilization "
   ]
  },
  {
   "cell_type": "markdown",
   "metadata": {},
   "source": [
    "### Exploratory Data Analysis (20%)\n",
    "\n",
    "The task here is to construct a big picture view of the data set.\n",
    "\n",
    "1. Download and load the dataset using pandas. Collect data into a single dataframe (if needed).\n",
    "2. Print statistics - use the head, info, describe functions\n",
    "3. Feature engineer a column for the score using a metric such as weight rating. \n",
    "4. Visualize the data"
   ]
  },
  {
   "cell_type": "code",
   "execution_count": null,
   "metadata": {
    "trusted": true
   },
   "outputs": [],
   "source": [
    "#use multiple code blocks to organize your code\n",
    "#EDA \n",
    "\n",
    "#PART 1, download and load datasets using pandas\n",
    "# Load the CSV files\n",
    "ratings = pd.read_csv('/mnt/data/ratings.csv')\n",
    "tags = pd.read_csv('/mnt/data/tags.csv')\n",
    "movies = pd.read_csv('/mnt/data/movies.csv')\n",
    "\n",
    "#Part 2, print stats and  inspect the data for a better understanding of what we are working with\n"
   ]
  },
  {
   "cell_type": "markdown",
   "metadata": {},
   "source": [
    "### Data Prep and Cleaning (10%)\n",
    "\n",
    "Here, you will work to further investigate your features.\n",
    "\n",
    "1. Analyze and drop redundant data\n",
    "2. Remove missing data records\n",
    "3. Make splits of the data based on users (such a number of reviews)"
   ]
  },
  {
   "cell_type": "code",
   "execution_count": null,
   "metadata": {
    "trusted": true
   },
   "outputs": [],
   "source": [
    "#use multiple code blocks to organize your code"
   ]
  },
  {
   "cell_type": "markdown",
   "metadata": {},
   "source": [
    "### Moive Recommendation (40%)\n",
    "\n",
    "Now you will create and test many ML models. The idea is to play with hyperparameters and model types.\n",
    "You may find that some of your data prep needs further tweaking.\n",
    "\n",
    "Generally, you will want to follow the order of steps below (with 1&2 already completed):\n",
    "\n",
    "1. Create a copy of your data.\n",
    "2. Create a train & test split. Generally, 80-20 splits work, but you can play with this.\n",
    "3. Use a model you understand well for prediction.\n",
    "4. Improve your model(s) using cross-validation.\n",
    "\n",
    "Evaluate the model using the top 10 hits from 2015 (ask for the next 3 recommendations based on each of the following):  \n",
    "\n",
    "1. Chi-Raq\n",
    "2. Creed\n",
    "3. Son of Sau\n",
    "4. Carol\n",
    "5. 45 Years\n",
    "6. Brooklyn\n",
    "7. Spotlight\n",
    "8. Anomalisa\n",
    "9. Inside Out\n",
    "10. Mad Max\n",
    "\n",
    "Ranking from: https://www.rogerebert.com/features/the-ten-best-films-of-2015"
   ]
  },
  {
   "cell_type": "code",
   "execution_count": null,
   "metadata": {
    "trusted": true
   },
   "outputs": [],
   "source": [
    "#use multiple code blocks to organize your code"
   ]
  },
  {
   "cell_type": "markdown",
   "metadata": {},
   "source": [
    "### Analysis (30%):\n",
    "\n",
    "A critical component in science is communicating your results and explaining the reseasoning behind the results.\n",
    "A good presentation here should include the following:  \n",
    "\n",
    "1. An introduction to the dataset, any things we should know (e.g. how it was collected, common errors). \n",
    "2. What did you discover in your EDA? What do you do with missing values, outliers, etc.  \n",
    "3. What kind of distribution is the data? Is there a skew or high concentration of ratings around a genre?  \n",
    "4. What correlations were revealed in the analysis? e.g. any attributes that correlate positively?  \n",
    "5. Feature selection: which feature worked for recommendations and what was noise? How did you determine?\n",
    "\n",
    "The points above are for guidance; you can choose your template and structure.  \n",
    "The idea is to present a short report (no word counts) that is structured. \n",
    "structured, clear, and concise.  \n",
    "You can refer back to your figures and use external links to explain your insights."
   ]
  },
  {
   "cell_type": "markdown",
   "metadata": {},
   "source": [
    "### use this markdown cell to write a report\n",
    "\n",
    "[here]"
   ]
  },
  {
   "cell_type": "markdown",
   "metadata": {},
   "source": [
    "### Submission:\n",
    "\n",
    "You need to prepare your ipynb/jupyter notebook for grading.\n",
    "The two main tasks are ensuring all your cell outputs are present and that you convert the notebook to PDF.\n",
    "\n",
    "The instructs will vary slightly based on the platform (collab, kaggle, anaconda, etc).\n",
    "Generally, inside the notebook, you will want to:\n",
    "1. Restart & clear all cell outputs (optional, may detect buggy program control flow)\n",
    "2. Run all (must do; I need to see your code cell outputs!)\n",
    "\n",
    "Next, you need to download the notebook as a PDF. Unfortunately, exporting as PDF is a bit tricky.\n",
    "An easy work around:\n",
    "1. Download the notebook. (all platforms allow the default .ipynb export)\n",
    "2. https://onlineconvertfree.com/convert-format/ipynb-to-pdf/\n",
    "\n",
    "If you are unable to upload as a PDF, submit the .ipynb. Do NOT upload a .py file."
   ]
  },
  {
   "cell_type": "markdown",
   "metadata": {},
   "source": [
    "### Rubric:\n",
    "\n",
    "Please see the associated percentage allocations.  \n",
    "In general, ensure your code runs correctly.  Make your the PDF upload includes your code ouputs.  \n",
    "You will be given significant credit for documentation and pseudo-code.\n",
    "\n",
    "For more details, please read the rubric PDF in the assignment files."
   ]
  }
 ],
 "metadata": {
  "kaggle": {
   "accelerator": "none",
   "dataSources": [],
   "dockerImageVersionId": 30786,
   "isGpuEnabled": false,
   "isInternetEnabled": true,
   "language": "python",
   "sourceType": "notebook"
  },
  "kernelspec": {
   "display_name": "Python 3",
   "language": "python",
   "name": "python3"
  },
  "language_info": {
   "codemirror_mode": {
    "name": "ipython",
    "version": 3
   },
   "file_extension": ".py",
   "mimetype": "text/x-python",
   "name": "python",
   "nbconvert_exporter": "python",
   "pygments_lexer": "ipython3",
   "version": "3.9.13"
  }
 },
 "nbformat": 4,
 "nbformat_minor": 4
}
